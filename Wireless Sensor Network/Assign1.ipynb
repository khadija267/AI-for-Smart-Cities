{
 "cells": [
  {
   "cell_type": "markdown",
   "metadata": {},
   "source": [
    "# Wireless Sensor Network (WSN)"
   ]
  },
  {
   "cell_type": "markdown",
   "metadata": {},
   "source": [
    "Some sensors are randomly distributed in a environment. They transmit the\n",
    "temperature, humidity and pressure data to the only controller at regular intervals. The controller\n",
    "processes the received data and gives a predicted value to reflect the parameters of the current\n",
    "environment.\n",
    "![image info](./eqn.png)\n",
    "![image info](./desc.png)"
   ]
  },
  {
   "cell_type": "code",
   "execution_count": 1,
   "metadata": {},
   "outputs": [],
   "source": [
    "import random \n",
    "import math\n",
    "import pandas as pd\n",
    "import numpy as np"
   ]
  },
  {
   "cell_type": "code",
   "execution_count": 2,
   "metadata": {},
   "outputs": [],
   "source": [
    "RAND_MAX=32767\n",
    "\n",
    "def random_value( min,  max):\n",
    "    scale = random.randint(0,RAND_MAX) /  RAND_MAX;\n",
    "    return min + scale * (max - min)\n",
    "\n",
    "def gaussian(mu,sigma):\n",
    "    u1 = random_value(0,1)\n",
    "    u2 = random_value(0,1)\n",
    "    epsilon = 0.00001\n",
    "    while u1<=epsilon:\n",
    "        u1 = random_value(0,1)\n",
    "        u2 = random_value(0,1)\n",
    "    mag = sigma * np.sqrt(-2.0 * np.log(u1));\n",
    "    z0 = mag * np.cos(2*np.pi * u2) + mu\n",
    "    z1 = mag * np.sin(2*np.pi * u2) + mu\n",
    "    if random_value(0,1)>0.5:\n",
    "        return z0\n",
    "    else:\n",
    "        return z1\n",
    "def get_additive_noise():\n",
    "    return gaussian(0,1);\n"
   ]
  },
  {
   "cell_type": "code",
   "execution_count": 3,
   "metadata": {},
   "outputs": [],
   "source": [
    "def dataPreparation(txt):\n",
    "    # https://www.computerhope.com/issues/ch001721.htm\n",
    "    df = []                               \n",
    "    with open (txt, 'rt') as f:   \n",
    "        for i in f:   \n",
    "            chars=i.split()\n",
    "            if(chars[4][0]=='#'):\n",
    "                df.append(chars)\n",
    "    df=pd.DataFrame(df)        \n",
    "    Temperature=pd.DataFrame(df.iloc[:,6])\n",
    "    Temperature=Temperature.iloc[:,0].str.rstrip(',').astype('float')\n",
    "    Humidity=pd.DataFrame(df.iloc[:,8])\n",
    "    Humidity=Humidity.iloc[:,0].str.rstrip(',').astype('float')\n",
    "    Pressure=pd.DataFrame(df.iloc[:,10])\n",
    "    Pressure=Pressure.iloc[:,0].str.rstrip(',').astype('float')    \n",
    "    return Temperature,Humidity, Pressure     \n",
    "\n",
    "    "
   ]
  },
  {
   "cell_type": "code",
   "execution_count": 4,
   "metadata": {},
   "outputs": [],
   "source": [
    "# https://stackoverflow.com/questions/47239332/take-the-sum-of-every-n-rows-in-a-pandas-series\n",
    "def controller(df,val,L,rounds):\n",
    "    \n",
    "    diff=[]\n",
    "    df=df.groupby(df.index // L).sum() \n",
    "    for i in range(rounds):\n",
    "        df[i]=(df[i]/L)+get_additive_noise()\n",
    "        diff.append(np.abs(val-df[i]))\n",
    "    return diff    "
   ]
  },
  {
   "cell_type": "code",
   "execution_count": 5,
   "metadata": {},
   "outputs": [],
   "source": [
    "#controller(Temperature28,25,28,30)"
   ]
  },
  {
   "cell_type": "markdown",
   "metadata": {},
   "source": [
    "![image info](./s1.png)"
   ]
  },
  {
   "cell_type": "code",
   "execution_count": 6,
   "metadata": {},
   "outputs": [],
   "source": [
    "Temperature5,Humidity5, Pressure5 =dataPreparation('Sensors5.txt')            "
   ]
  },
  {
   "cell_type": "code",
   "execution_count": 7,
   "metadata": {},
   "outputs": [
    {
     "name": "stdout",
     "output_type": "stream",
     "text": [
      "Temperature:\n",
      "Minimum value: 0.05051616004559634\n",
      "Largest value: 3.023730785095079\n",
      "Average value: 1.6226746766935813\n",
      "------------------------------------\n",
      "Humidity:\n",
      "Minimum value: 0.1792233670262604\n",
      "Largest value: 3.551445826047825\n",
      "Average value: 2.104391459262132\n",
      "------------------------------------\n",
      "Pressure:\n",
      "Minimum value: 5047.439825746682\n",
      "Largest value: 5052.857550563276\n",
      "Average value: 5050.081658830314\n"
     ]
    }
   ],
   "source": [
    "print('Temperature:')\n",
    "print('Minimum value:',np.min(controller(Temperature5,25,5,30)))\n",
    "print('Largest value:',np.max(controller(Temperature5,25,5,30)))\n",
    "print('Average value:',np.average(controller(Temperature5,25,5,30)))\n",
    "print('------------------------------------')\n",
    "print('Humidity:')\n",
    "print('Minimum value:',np.min(controller(Humidity5,40,5,30)))\n",
    "print('Largest value:',np.max(controller(Humidity5,40,5,30)))\n",
    "print('Average value:',np.average(controller(Humidity5,40,5,30)))\n",
    "print('------------------------------------')\n",
    "print('Pressure:')\n",
    "print('Minimum value:',np.min(controller(Pressure5,101000,5,30)))\n",
    "print('Largest value:',np.max(controller(Pressure5,101000,5,30)))\n",
    "print('Average value:',np.average(controller(Pressure5,101000,5,30)))"
   ]
  },
  {
   "cell_type": "markdown",
   "metadata": {},
   "source": [
    "![image info](./ss2.png)"
   ]
  },
  {
   "cell_type": "markdown",
   "metadata": {},
   "source": [
    "![image info](./ss1.png)"
   ]
  },
  {
   "cell_type": "code",
   "execution_count": 8,
   "metadata": {},
   "outputs": [],
   "source": [
    "Temperature28,Humidity28, Pressure28 =dataPreparation('Sensors28.txt')            "
   ]
  },
  {
   "cell_type": "code",
   "execution_count": 9,
   "metadata": {},
   "outputs": [
    {
     "name": "stdout",
     "output_type": "stream",
     "text": [
      "Temperature:\n",
      "Minimum value: 0.01945106433509025\n",
      "Largest value: 3.150799784832728\n",
      "Average value: 1.507919192640827\n",
      "------------------------------------\n",
      "Humidity:\n",
      "Minimum value: 0.02228725922611119\n",
      "Largest value: 4.305923266183058\n",
      "Average value: 2.028218754708013\n",
      "------------------------------------\n",
      "Pressure:\n",
      "Minimum value: 5048.3615672565065\n",
      "Largest value: 5052.115010197143\n",
      "Average value: 5050.03009287365\n"
     ]
    }
   ],
   "source": [
    "print('Temperature:')\n",
    "print('Minimum value:',np.min(controller(Temperature28,25,28,30)))\n",
    "print('Largest value:',np.max(controller(Temperature28,25,28,30)))\n",
    "print('Average value:',np.average(controller(Temperature28,25,28,30)))\n",
    "print('------------------------------------')\n",
    "print('Humidity:')\n",
    "print('Minimum value:',np.min(controller(Humidity28,40,28,30)))\n",
    "print('Largest value:',np.max(controller(Humidity28,40,28,30)))\n",
    "print('Average value:',np.average(controller(Humidity28,40,28,30)))\n",
    "print('------------------------------------')\n",
    "print('Pressure:')\n",
    "print('Minimum value:',np.min(controller(Pressure28,101000,28,30)))\n",
    "print('Largest value:',np.max(controller(Pressure28,101000,28,30)))\n",
    "print('Average value:',np.average(controller(Pressure28,101000,28,30)))"
   ]
  },
  {
   "cell_type": "markdown",
   "metadata": {},
   "source": [
    "## Two rounds"
   ]
  },
  {
   "cell_type": "markdown",
   "metadata": {},
   "source": [
    "### 1.1) Five sensors"
   ]
  },
  {
   "cell_type": "code",
   "execution_count": 10,
   "metadata": {},
   "outputs": [
    {
     "name": "stdout",
     "output_type": "stream",
     "text": [
      "Temperature:\n",
      "Minimum value: 2.2064357188929087\n",
      "Largest value: 1.8061910246574264\n",
      "Average value: 2.3998610365399937\n",
      "------------------------------------\n",
      "Humidity:\n",
      "Minimum value: 1.0988234735675064\n",
      "Largest value: 3.241393224866542\n",
      "Average value: 2.5084031679805996\n",
      "------------------------------------\n",
      "Pressure:\n",
      "Minimum value: 5048.921402733657\n",
      "Largest value: 5049.532262986584\n",
      "Average value: 5051.430547587304\n"
     ]
    }
   ],
   "source": [
    "print('Temperature:')\n",
    "print('Minimum value:',np.min(controller(Temperature5,25,5,2)))\n",
    "print('Largest value:',np.max(controller(Temperature5,25,5,2)))\n",
    "print('Average value:',np.average(controller(Temperature5,25,5,2)))\n",
    "print('------------------------------------')\n",
    "print('Humidity:')\n",
    "print('Minimum value:',np.min(controller(Humidity5,40,5,2)))\n",
    "print('Largest value:',np.max(controller(Humidity5,40,5,2)))\n",
    "print('Average value:',np.average(controller(Humidity5,40,5,2)))\n",
    "print('------------------------------------')\n",
    "print('Pressure:')\n",
    "print('Minimum value:',np.min(controller(Pressure5,101000,5,2)))\n",
    "print('Largest value:',np.max(controller(Pressure5,101000,5,2)))\n",
    "print('Average value:',np.average(controller(Pressure5,101000,5,2)))"
   ]
  },
  {
   "cell_type": "markdown",
   "metadata": {},
   "source": [
    "### 1.1) Twenty eight sensors"
   ]
  },
  {
   "cell_type": "code",
   "execution_count": 11,
   "metadata": {},
   "outputs": [
    {
     "name": "stdout",
     "output_type": "stream",
     "text": [
      "Temperature:\n",
      "Minimum value: 0.8447695962404076\n",
      "Largest value: 1.1679397960733056\n",
      "Average value: 0.5053166993911375\n",
      "------------------------------------\n",
      "Humidity:\n",
      "Minimum value: 0.5609598003472769\n",
      "Largest value: 3.049198373031473\n",
      "Average value: 1.3893267040357955\n",
      "------------------------------------\n",
      "Pressure:\n",
      "Minimum value: 5048.732940424001\n",
      "Largest value: 5051.1283449014445\n",
      "Average value: 5051.700047443104\n"
     ]
    }
   ],
   "source": [
    "print('Temperature:')\n",
    "print('Minimum value:',np.min(controller(Temperature28,25,28,2)))\n",
    "print('Largest value:',np.max(controller(Temperature28,25,28,2)))\n",
    "print('Average value:',np.average(controller(Temperature28,25,28,2)))\n",
    "print('------------------------------------')\n",
    "print('Humidity:')\n",
    "print('Minimum value:',np.min(controller(Humidity28,40,28,2)))\n",
    "print('Largest value:',np.max(controller(Humidity28,40,28,2)))\n",
    "print('Average value:',np.average(controller(Humidity28,40,28,2)))\n",
    "print('------------------------------------')\n",
    "print('Pressure:')\n",
    "print('Minimum value:',np.min(controller(Pressure28,101000,28,2)))\n",
    "print('Largest value:',np.max(controller(Pressure28,101000,28,2)))\n",
    "print('Average value:',np.average(controller(Pressure28,101000,28,2)))"
   ]
  },
  {
   "cell_type": "code",
   "execution_count": null,
   "metadata": {},
   "outputs": [],
   "source": []
  },
  {
   "cell_type": "code",
   "execution_count": null,
   "metadata": {},
   "outputs": [],
   "source": []
  },
  {
   "cell_type": "code",
   "execution_count": null,
   "metadata": {},
   "outputs": [],
   "source": []
  },
  {
   "cell_type": "code",
   "execution_count": null,
   "metadata": {},
   "outputs": [],
   "source": []
  }
 ],
 "metadata": {
  "kernelspec": {
   "display_name": "Python 3",
   "language": "python",
   "name": "python3"
  },
  "language_info": {
   "codemirror_mode": {
    "name": "ipython",
    "version": 3
   },
   "file_extension": ".py",
   "mimetype": "text/x-python",
   "name": "python",
   "nbconvert_exporter": "python",
   "pygments_lexer": "ipython3",
   "version": "3.7.6"
  }
 },
 "nbformat": 4,
 "nbformat_minor": 4
}
