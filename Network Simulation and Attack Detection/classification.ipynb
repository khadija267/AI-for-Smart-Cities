{
  "nbformat": 4,
  "nbformat_minor": 0,
  "metadata": {
    "colab": {
      "name": "smart_cities_asg_2",
      "provenance": [],
      "collapsed_sections": []
    },
    "kernelspec": {
      "name": "python3",
      "display_name": "Python 3"
    },
    "language_info": {
      "name": "python"
    }
  },
  "cells": [
    {
      "cell_type": "markdown",
      "metadata": {
        "id": "QJidcGfP45M9"
      },
      "source": [
        "# **1. Import Data**"
      ]
    },
    {
      "cell_type": "code",
      "metadata": {
        "id": "pSNDDbke2ogU"
      },
      "source": [
        "from google.colab import files\n",
        "import io  \n",
        "import pandas as pd\n",
        "import numpy as np\n",
        "from sklearn.model_selection import train_test_split\n",
        "from sklearn.ensemble import AdaBoostClassifier,RandomForestClassifier\n",
        "from sklearn.metrics import accuracy_score, precision_score, recall_score, f1_score,plot_confusion_matrix\n",
        "import matplotlib.pyplot as plt\n",
        "import seaborn as sns\n",
        "from sklearn import preprocessing\n",
        "pd.set_option('display.max_columns',1000)\n"
      ],
      "execution_count": null,
      "outputs": []
    },
    {
      "cell_type": "code",
      "metadata": {
        "id": "CA1K75aG3jQt",
        "colab": {
          "resources": {
            "http://localhost:8080/nbextensions/google.colab/files.js": {
              "data": "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",
              "ok": true,
              "headers": [
                [
                  "content-type",
                  "application/javascript"
                ]
              ],
              "status": 200,
              "status_text": "OK"
            }
          },
          "base_uri": "https://localhost:8080/",
          "height": 142
        },
        "outputId": "fef3c5a7-0e0b-4534-946b-60f5688c7b73"
      },
      "source": [
        "uploaded = files.upload()"
      ],
      "execution_count": null,
      "outputs": [
        {
          "output_type": "display_data",
          "data": {
            "text/html": [
              "\n",
              "     <input type=\"file\" id=\"files-8d439811-3a7d-4e42-8f65-cdc912922662\" name=\"files[]\" multiple disabled\n",
              "        style=\"border:none\" />\n",
              "     <output id=\"result-8d439811-3a7d-4e42-8f65-cdc912922662\">\n",
              "      Upload widget is only available when the cell has been executed in the\n",
              "      current browser session. Please rerun this cell to enable.\n",
              "      </output>\n",
              "      <script src=\"/nbextensions/google.colab/files.js\"></script> "
            ],
            "text/plain": [
              "<IPython.core.display.HTML object>"
            ]
          },
          "metadata": {
            "tags": []
          }
        },
        {
          "output_type": "stream",
          "text": [
            "Saving 10ClientServerNormal.csv to 10ClientServerNormal.csv\n",
            "Saving pingAttack.csv to pingAttack.csv\n",
            "Saving udpFlood.csv to udpFlood.csv\n"
          ],
          "name": "stdout"
        }
      ]
    },
    {
      "cell_type": "code",
      "metadata": {
        "colab": {
          "base_uri": "https://localhost:8080/"
        },
        "id": "SvxPV4os3pwr",
        "outputId": "ba037a04-6c75-48bc-bf2b-72ade5f66cae"
      },
      "source": [
        "normal_df = pd.read_csv(io.BytesIO(uploaded['10ClientServerNormal.csv']))\n",
        "ping_df = pd.read_csv(io.BytesIO(uploaded['pingAttack.csv']))\n",
        "udp_flood_df = pd.read_csv(io.BytesIO(uploaded['udpFlood.csv']))\n",
        "\n",
        "print(normal_df.shape)\n",
        "print(ping_df.shape)\n",
        "print(udp_flood_df.shape)"
      ],
      "execution_count": null,
      "outputs": [
        {
          "output_type": "stream",
          "text": [
            "(13249, 100)\n",
            "(208, 100)\n",
            "(1319, 100)\n"
          ],
          "name": "stdout"
        }
      ]
    },
    {
      "cell_type": "markdown",
      "metadata": {
        "id": "sPtSh3EQ7anV"
      },
      "source": [
        "# **2. Data Preprocessing**"
      ]
    },
    {
      "cell_type": "markdown",
      "metadata": {
        "id": "hF5PLruN7yys"
      },
      "source": [
        "## 2.1 Merge Datasets"
      ]
    },
    {
      "cell_type": "code",
      "metadata": {
        "id": "vkz41VC4VSle",
        "colab": {
          "base_uri": "https://localhost:8080/",
          "height": 626
        },
        "outputId": "448259b9-b80f-4680-d71f-52c9089cffc6"
      },
      "source": [
        "#normal_df = normal_df.loc[0:207]\n",
        "#udp_flood_df = udp_flood_df.loc[0:207]\n",
        "\n",
        "df = pd.concat([normal_df, udp_flood_df, ping_df])\n",
        "df.head()"
      ],
      "execution_count": null,
      "outputs": [
        {
          "output_type": "execute_result",
          "data": {
            "text/html": [
              "<div>\n",
              "<style scoped>\n",
              "    .dataframe tbody tr th:only-of-type {\n",
              "        vertical-align: middle;\n",
              "    }\n",
              "\n",
              "    .dataframe tbody tr th {\n",
              "        vertical-align: top;\n",
              "    }\n",
              "\n",
              "    .dataframe thead th {\n",
              "        text-align: right;\n",
              "    }\n",
              "</style>\n",
              "<table border=\"1\" class=\"dataframe\">\n",
              "  <thead>\n",
              "    <tr style=\"text-align: right;\">\n",
              "      <th></th>\n",
              "      <th>Session Key</th>\n",
              "      <th>Protocol</th>\n",
              "      <th>Src IP</th>\n",
              "      <th>Src Port</th>\n",
              "      <th>Dst IP</th>\n",
              "      <th>Dst Port</th>\n",
              "      <th>Init Ts</th>\n",
              "      <th>Last Ts</th>\n",
              "      <th>Ts</th>\n",
              "      <th>Duration</th>\n",
              "      <th>Mac Addr</th>\n",
              "      <th>Label</th>\n",
              "      <th>Fwd Pkt Len Min</th>\n",
              "      <th>Fwd Pkt Len Max</th>\n",
              "      <th>Fwd Pkt Len Sum</th>\n",
              "      <th>Fwd Pkt Len Ave</th>\n",
              "      <th>Fwd Pkt Len Std</th>\n",
              "      <th>Bwd Pkt Len Min</th>\n",
              "      <th>Bwd Pkt Len Max</th>\n",
              "      <th>Bwd Pkt Len Sum</th>\n",
              "      <th>Bwd Pkt Len Ave</th>\n",
              "      <th>Bwd Pkt Len Std</th>\n",
              "      <th>Flow Pkt Len Min</th>\n",
              "      <th>Flow Pkt Len Max</th>\n",
              "      <th>Flow Pkt Len Ave</th>\n",
              "      <th>Flow Pkt Len Std</th>\n",
              "      <th>Fwd Pkt Num</th>\n",
              "      <th>Bwd Pkt Num</th>\n",
              "      <th>F/Bwd Pkt Ratio</th>\n",
              "      <th>Fwd Pkt Speed</th>\n",
              "      <th>Bwd Pkt Speed</th>\n",
              "      <th>Fwd Byte Num</th>\n",
              "      <th>Bwd Byte Num</th>\n",
              "      <th>F/Bwd Byte Ratio</th>\n",
              "      <th>Fwd Byte Speed</th>\n",
              "      <th>Bwd Byte Speed</th>\n",
              "      <th>Fwd Flag Ack Num</th>\n",
              "      <th>Bwd Flag Ack Num</th>\n",
              "      <th>F/Bwd Flag Ack Ratio</th>\n",
              "      <th>Fwd Flag Ack Speed</th>\n",
              "      <th>Bwd Flag Ack Speed</th>\n",
              "      <th>Fwd Flag Cwr Num</th>\n",
              "      <th>Bwd Flag Cwr Num</th>\n",
              "      <th>F/Bwd Flag Cwr Ratio</th>\n",
              "      <th>Fwd Flag Cwr Speed</th>\n",
              "      <th>Bwd Flag Cwr Speed</th>\n",
              "      <th>Fwd Flag Ecn Num</th>\n",
              "      <th>Bwd Flag Ecn Num</th>\n",
              "      <th>F/Bwd Flag Ecn Ratio</th>\n",
              "      <th>Fwd Flag Ecn Speed</th>\n",
              "      <th>Bwd Flag Ecn Speed</th>\n",
              "      <th>Fwd Flag Fin Num</th>\n",
              "      <th>Bwd Flag Fin Num</th>\n",
              "      <th>F/Bwd Flag Fin Ratio</th>\n",
              "      <th>Fwd Flag Fin Speed</th>\n",
              "      <th>Bwd Flag Fin Speed</th>\n",
              "      <th>Fwd Flag Ns Num</th>\n",
              "      <th>Bwd Flag Ns Num</th>\n",
              "      <th>F/Bwd Flag Ns Ratio</th>\n",
              "      <th>Fwd Flag Ns Speed</th>\n",
              "      <th>Bwd Flag Ns Speed</th>\n",
              "      <th>Fwd Flag Push Num</th>\n",
              "      <th>Bwd Flag Push Num</th>\n",
              "      <th>F/Bwd Flag Push Ratio</th>\n",
              "      <th>Fwd Flag Push Speed</th>\n",
              "      <th>Bwd Flag Push Speed</th>\n",
              "      <th>Fwd Flag Res Num</th>\n",
              "      <th>Bwd Flag Res Num</th>\n",
              "      <th>F/Bwd Flag Res Ratio</th>\n",
              "      <th>Fwd Flag Res Speed</th>\n",
              "      <th>Bwd Flag Res Speed</th>\n",
              "      <th>Fwd Flag Reset Num</th>\n",
              "      <th>Bwd Flag Reset Num</th>\n",
              "      <th>F/Bwd Flag Reset Ratio</th>\n",
              "      <th>Fwd Flag Reset Speed</th>\n",
              "      <th>Bwd Flag Reset Speed</th>\n",
              "      <th>Fwd Flag Syn Num</th>\n",
              "      <th>Bwd Flag Syn Num</th>\n",
              "      <th>F/Bwd Flag Syn Ratio</th>\n",
              "      <th>Fwd Flag Syn Speed</th>\n",
              "      <th>Bwd Flag Syn Speed</th>\n",
              "      <th>Fwd Flag Urg Num</th>\n",
              "      <th>Bwd Flag Urg Num</th>\n",
              "      <th>F/Bwd Flag Urg Ratio</th>\n",
              "      <th>Fwd Flag Urg Speed</th>\n",
              "      <th>Bwd Flag Urg Speed</th>\n",
              "      <th>Fwd IAT Min</th>\n",
              "      <th>Fwd IAT Max</th>\n",
              "      <th>Fwd IAT Sum</th>\n",
              "      <th>Fwd IAT Ave</th>\n",
              "      <th>Fwd IAT Std</th>\n",
              "      <th>Bwd IAT Min</th>\n",
              "      <th>Bwd IAT Max</th>\n",
              "      <th>Bwd IAT Sum</th>\n",
              "      <th>Bwd IAT Ave</th>\n",
              "      <th>Bwd IAT Std</th>\n",
              "      <th>Flow IAT Min</th>\n",
              "      <th>Flow IAT Max</th>\n",
              "      <th>Flow IAT Ave</th>\n",
              "      <th>Flow IAT Std</th>\n",
              "    </tr>\n",
              "  </thead>\n",
              "  <tbody>\n",
              "    <tr>\n",
              "      <th>0</th>\n",
              "      <td>ICMPv6 ::201:1:1:1 0 ::205:5:5:5 0 155 2</td>\n",
              "      <td>ICMPv6</td>\n",
              "      <td>::201:1:1:1</td>\n",
              "      <td>0</td>\n",
              "      <td>::205:5:5:5</td>\n",
              "      <td>0</td>\n",
              "      <td>48:50.3</td>\n",
              "      <td>48:50.3</td>\n",
              "      <td>1.622580e+15</td>\n",
              "      <td>0</td>\n",
              "      <td>{'00:01:00:01:00:01:00:01', '00:05:00:05:00:05...</td>\n",
              "      <td>normal</td>\n",
              "      <td>0</td>\n",
              "      <td>0</td>\n",
              "      <td>0</td>\n",
              "      <td>0</td>\n",
              "      <td>0</td>\n",
              "      <td>85</td>\n",
              "      <td>85</td>\n",
              "      <td>85</td>\n",
              "      <td>85</td>\n",
              "      <td>0</td>\n",
              "      <td>85</td>\n",
              "      <td>85</td>\n",
              "      <td>85</td>\n",
              "      <td>0</td>\n",
              "      <td>0</td>\n",
              "      <td>1</td>\n",
              "      <td>0</td>\n",
              "      <td>0.0</td>\n",
              "      <td>0.0</td>\n",
              "      <td>0</td>\n",
              "      <td>85</td>\n",
              "      <td>0</td>\n",
              "      <td>0.0</td>\n",
              "      <td>0.0</td>\n",
              "      <td>0</td>\n",
              "      <td>0</td>\n",
              "      <td>0</td>\n",
              "      <td>0</td>\n",
              "      <td>0</td>\n",
              "      <td>0</td>\n",
              "      <td>0</td>\n",
              "      <td>0</td>\n",
              "      <td>0</td>\n",
              "      <td>0</td>\n",
              "      <td>0</td>\n",
              "      <td>0</td>\n",
              "      <td>0</td>\n",
              "      <td>0</td>\n",
              "      <td>0</td>\n",
              "      <td>0</td>\n",
              "      <td>0</td>\n",
              "      <td>0</td>\n",
              "      <td>0</td>\n",
              "      <td>0</td>\n",
              "      <td>0</td>\n",
              "      <td>0</td>\n",
              "      <td>0</td>\n",
              "      <td>0</td>\n",
              "      <td>0</td>\n",
              "      <td>0</td>\n",
              "      <td>0</td>\n",
              "      <td>0</td>\n",
              "      <td>0</td>\n",
              "      <td>0</td>\n",
              "      <td>0</td>\n",
              "      <td>0</td>\n",
              "      <td>0</td>\n",
              "      <td>0</td>\n",
              "      <td>0</td>\n",
              "      <td>0</td>\n",
              "      <td>0</td>\n",
              "      <td>0</td>\n",
              "      <td>0</td>\n",
              "      <td>0</td>\n",
              "      <td>0</td>\n",
              "      <td>0</td>\n",
              "      <td>0</td>\n",
              "      <td>0</td>\n",
              "      <td>0</td>\n",
              "      <td>0</td>\n",
              "      <td>0</td>\n",
              "      <td>0</td>\n",
              "      <td>0</td>\n",
              "      <td>0</td>\n",
              "      <td>0.0</td>\n",
              "      <td>0.0</td>\n",
              "      <td>0.0</td>\n",
              "      <td>0.0</td>\n",
              "      <td>0.0</td>\n",
              "      <td>0.0</td>\n",
              "      <td>0.0</td>\n",
              "      <td>0.0</td>\n",
              "      <td>0.0</td>\n",
              "      <td>0.0</td>\n",
              "      <td>0.0</td>\n",
              "      <td>0.0</td>\n",
              "      <td>0.0</td>\n",
              "      <td>0.0</td>\n",
              "    </tr>\n",
              "    <tr>\n",
              "      <th>1</th>\n",
              "      <td>ICMPv6 ::201:1:1:1 0 ::205:5:5:5 0 155 3</td>\n",
              "      <td>ICMPv6</td>\n",
              "      <td>::201:1:1:1</td>\n",
              "      <td>0</td>\n",
              "      <td>::205:5:5:5</td>\n",
              "      <td>0</td>\n",
              "      <td>48:50.3</td>\n",
              "      <td>48:50.3</td>\n",
              "      <td>1.622580e+15</td>\n",
              "      <td>0</td>\n",
              "      <td>{'00:01:00:01:00:01:00:01', '00:05:00:05:00:05...</td>\n",
              "      <td>normal</td>\n",
              "      <td>43</td>\n",
              "      <td>43</td>\n",
              "      <td>43</td>\n",
              "      <td>43</td>\n",
              "      <td>0</td>\n",
              "      <td>0</td>\n",
              "      <td>0</td>\n",
              "      <td>0</td>\n",
              "      <td>0</td>\n",
              "      <td>0</td>\n",
              "      <td>43</td>\n",
              "      <td>43</td>\n",
              "      <td>43</td>\n",
              "      <td>0</td>\n",
              "      <td>1</td>\n",
              "      <td>0</td>\n",
              "      <td>0</td>\n",
              "      <td>0.0</td>\n",
              "      <td>0.0</td>\n",
              "      <td>43</td>\n",
              "      <td>0</td>\n",
              "      <td>0</td>\n",
              "      <td>0.0</td>\n",
              "      <td>0.0</td>\n",
              "      <td>0</td>\n",
              "      <td>0</td>\n",
              "      <td>0</td>\n",
              "      <td>0</td>\n",
              "      <td>0</td>\n",
              "      <td>0</td>\n",
              "      <td>0</td>\n",
              "      <td>0</td>\n",
              "      <td>0</td>\n",
              "      <td>0</td>\n",
              "      <td>0</td>\n",
              "      <td>0</td>\n",
              "      <td>0</td>\n",
              "      <td>0</td>\n",
              "      <td>0</td>\n",
              "      <td>0</td>\n",
              "      <td>0</td>\n",
              "      <td>0</td>\n",
              "      <td>0</td>\n",
              "      <td>0</td>\n",
              "      <td>0</td>\n",
              "      <td>0</td>\n",
              "      <td>0</td>\n",
              "      <td>0</td>\n",
              "      <td>0</td>\n",
              "      <td>0</td>\n",
              "      <td>0</td>\n",
              "      <td>0</td>\n",
              "      <td>0</td>\n",
              "      <td>0</td>\n",
              "      <td>0</td>\n",
              "      <td>0</td>\n",
              "      <td>0</td>\n",
              "      <td>0</td>\n",
              "      <td>0</td>\n",
              "      <td>0</td>\n",
              "      <td>0</td>\n",
              "      <td>0</td>\n",
              "      <td>0</td>\n",
              "      <td>0</td>\n",
              "      <td>0</td>\n",
              "      <td>0</td>\n",
              "      <td>0</td>\n",
              "      <td>0</td>\n",
              "      <td>0</td>\n",
              "      <td>0</td>\n",
              "      <td>0</td>\n",
              "      <td>0</td>\n",
              "      <td>0</td>\n",
              "      <td>0</td>\n",
              "      <td>0.0</td>\n",
              "      <td>0.0</td>\n",
              "      <td>0.0</td>\n",
              "      <td>0.0</td>\n",
              "      <td>0.0</td>\n",
              "      <td>0.0</td>\n",
              "      <td>0.0</td>\n",
              "      <td>0.0</td>\n",
              "      <td>0.0</td>\n",
              "      <td>0.0</td>\n",
              "      <td>0.0</td>\n",
              "      <td>0.0</td>\n",
              "      <td>0.0</td>\n",
              "      <td>0.0</td>\n",
              "    </tr>\n",
              "    <tr>\n",
              "      <th>2</th>\n",
              "      <td>ICMPv6 ::201:1:1:1 0 ::20a:a:a:a 0 155 2</td>\n",
              "      <td>ICMPv6</td>\n",
              "      <td>::201:1:1:1</td>\n",
              "      <td>0</td>\n",
              "      <td>::20a:a:a:a</td>\n",
              "      <td>0</td>\n",
              "      <td>48:52.4</td>\n",
              "      <td>48:52.4</td>\n",
              "      <td>1.622580e+15</td>\n",
              "      <td>0</td>\n",
              "      <td>{'00:0a:00:0a:00:0a:00:0a', '00:01:00:01:00:01...</td>\n",
              "      <td>normal</td>\n",
              "      <td>0</td>\n",
              "      <td>0</td>\n",
              "      <td>0</td>\n",
              "      <td>0</td>\n",
              "      <td>0</td>\n",
              "      <td>85</td>\n",
              "      <td>85</td>\n",
              "      <td>85</td>\n",
              "      <td>85</td>\n",
              "      <td>0</td>\n",
              "      <td>85</td>\n",
              "      <td>85</td>\n",
              "      <td>85</td>\n",
              "      <td>0</td>\n",
              "      <td>0</td>\n",
              "      <td>1</td>\n",
              "      <td>0</td>\n",
              "      <td>0.0</td>\n",
              "      <td>0.0</td>\n",
              "      <td>0</td>\n",
              "      <td>85</td>\n",
              "      <td>0</td>\n",
              "      <td>0.0</td>\n",
              "      <td>0.0</td>\n",
              "      <td>0</td>\n",
              "      <td>0</td>\n",
              "      <td>0</td>\n",
              "      <td>0</td>\n",
              "      <td>0</td>\n",
              "      <td>0</td>\n",
              "      <td>0</td>\n",
              "      <td>0</td>\n",
              "      <td>0</td>\n",
              "      <td>0</td>\n",
              "      <td>0</td>\n",
              "      <td>0</td>\n",
              "      <td>0</td>\n",
              "      <td>0</td>\n",
              "      <td>0</td>\n",
              "      <td>0</td>\n",
              "      <td>0</td>\n",
              "      <td>0</td>\n",
              "      <td>0</td>\n",
              "      <td>0</td>\n",
              "      <td>0</td>\n",
              "      <td>0</td>\n",
              "      <td>0</td>\n",
              "      <td>0</td>\n",
              "      <td>0</td>\n",
              "      <td>0</td>\n",
              "      <td>0</td>\n",
              "      <td>0</td>\n",
              "      <td>0</td>\n",
              "      <td>0</td>\n",
              "      <td>0</td>\n",
              "      <td>0</td>\n",
              "      <td>0</td>\n",
              "      <td>0</td>\n",
              "      <td>0</td>\n",
              "      <td>0</td>\n",
              "      <td>0</td>\n",
              "      <td>0</td>\n",
              "      <td>0</td>\n",
              "      <td>0</td>\n",
              "      <td>0</td>\n",
              "      <td>0</td>\n",
              "      <td>0</td>\n",
              "      <td>0</td>\n",
              "      <td>0</td>\n",
              "      <td>0</td>\n",
              "      <td>0</td>\n",
              "      <td>0</td>\n",
              "      <td>0</td>\n",
              "      <td>0</td>\n",
              "      <td>0.0</td>\n",
              "      <td>0.0</td>\n",
              "      <td>0.0</td>\n",
              "      <td>0.0</td>\n",
              "      <td>0.0</td>\n",
              "      <td>0.0</td>\n",
              "      <td>0.0</td>\n",
              "      <td>0.0</td>\n",
              "      <td>0.0</td>\n",
              "      <td>0.0</td>\n",
              "      <td>0.0</td>\n",
              "      <td>0.0</td>\n",
              "      <td>0.0</td>\n",
              "      <td>0.0</td>\n",
              "    </tr>\n",
              "    <tr>\n",
              "      <th>3</th>\n",
              "      <td>ICMPv6 ::201:1:1:1 0 ::20a:a:a:a 0 155 3</td>\n",
              "      <td>ICMPv6</td>\n",
              "      <td>::201:1:1:1</td>\n",
              "      <td>0</td>\n",
              "      <td>::20a:a:a:a</td>\n",
              "      <td>0</td>\n",
              "      <td>48:52.5</td>\n",
              "      <td>48:52.5</td>\n",
              "      <td>1.622580e+15</td>\n",
              "      <td>0</td>\n",
              "      <td>{'00:0a:00:0a:00:0a:00:0a', '00:01:00:01:00:01...</td>\n",
              "      <td>normal</td>\n",
              "      <td>43</td>\n",
              "      <td>43</td>\n",
              "      <td>43</td>\n",
              "      <td>43</td>\n",
              "      <td>0</td>\n",
              "      <td>0</td>\n",
              "      <td>0</td>\n",
              "      <td>0</td>\n",
              "      <td>0</td>\n",
              "      <td>0</td>\n",
              "      <td>43</td>\n",
              "      <td>43</td>\n",
              "      <td>43</td>\n",
              "      <td>0</td>\n",
              "      <td>1</td>\n",
              "      <td>0</td>\n",
              "      <td>0</td>\n",
              "      <td>0.0</td>\n",
              "      <td>0.0</td>\n",
              "      <td>43</td>\n",
              "      <td>0</td>\n",
              "      <td>0</td>\n",
              "      <td>0.0</td>\n",
              "      <td>0.0</td>\n",
              "      <td>0</td>\n",
              "      <td>0</td>\n",
              "      <td>0</td>\n",
              "      <td>0</td>\n",
              "      <td>0</td>\n",
              "      <td>0</td>\n",
              "      <td>0</td>\n",
              "      <td>0</td>\n",
              "      <td>0</td>\n",
              "      <td>0</td>\n",
              "      <td>0</td>\n",
              "      <td>0</td>\n",
              "      <td>0</td>\n",
              "      <td>0</td>\n",
              "      <td>0</td>\n",
              "      <td>0</td>\n",
              "      <td>0</td>\n",
              "      <td>0</td>\n",
              "      <td>0</td>\n",
              "      <td>0</td>\n",
              "      <td>0</td>\n",
              "      <td>0</td>\n",
              "      <td>0</td>\n",
              "      <td>0</td>\n",
              "      <td>0</td>\n",
              "      <td>0</td>\n",
              "      <td>0</td>\n",
              "      <td>0</td>\n",
              "      <td>0</td>\n",
              "      <td>0</td>\n",
              "      <td>0</td>\n",
              "      <td>0</td>\n",
              "      <td>0</td>\n",
              "      <td>0</td>\n",
              "      <td>0</td>\n",
              "      <td>0</td>\n",
              "      <td>0</td>\n",
              "      <td>0</td>\n",
              "      <td>0</td>\n",
              "      <td>0</td>\n",
              "      <td>0</td>\n",
              "      <td>0</td>\n",
              "      <td>0</td>\n",
              "      <td>0</td>\n",
              "      <td>0</td>\n",
              "      <td>0</td>\n",
              "      <td>0</td>\n",
              "      <td>0</td>\n",
              "      <td>0</td>\n",
              "      <td>0</td>\n",
              "      <td>0.0</td>\n",
              "      <td>0.0</td>\n",
              "      <td>0.0</td>\n",
              "      <td>0.0</td>\n",
              "      <td>0.0</td>\n",
              "      <td>0.0</td>\n",
              "      <td>0.0</td>\n",
              "      <td>0.0</td>\n",
              "      <td>0.0</td>\n",
              "      <td>0.0</td>\n",
              "      <td>0.0</td>\n",
              "      <td>0.0</td>\n",
              "      <td>0.0</td>\n",
              "      <td>0.0</td>\n",
              "    </tr>\n",
              "    <tr>\n",
              "      <th>4</th>\n",
              "      <td>ICMPv6 ::201:1:1:1 0 ::208:8:8:8 0 155 2</td>\n",
              "      <td>ICMPv6</td>\n",
              "      <td>::201:1:1:1</td>\n",
              "      <td>0</td>\n",
              "      <td>::208:8:8:8</td>\n",
              "      <td>0</td>\n",
              "      <td>48:52.9</td>\n",
              "      <td>48:52.9</td>\n",
              "      <td>1.622580e+15</td>\n",
              "      <td>0</td>\n",
              "      <td>{'00:01:00:01:00:01:00:01', '00:08:00:08:00:08...</td>\n",
              "      <td>normal</td>\n",
              "      <td>0</td>\n",
              "      <td>0</td>\n",
              "      <td>0</td>\n",
              "      <td>0</td>\n",
              "      <td>0</td>\n",
              "      <td>85</td>\n",
              "      <td>85</td>\n",
              "      <td>85</td>\n",
              "      <td>85</td>\n",
              "      <td>0</td>\n",
              "      <td>85</td>\n",
              "      <td>85</td>\n",
              "      <td>85</td>\n",
              "      <td>0</td>\n",
              "      <td>0</td>\n",
              "      <td>1</td>\n",
              "      <td>0</td>\n",
              "      <td>0.0</td>\n",
              "      <td>0.0</td>\n",
              "      <td>0</td>\n",
              "      <td>85</td>\n",
              "      <td>0</td>\n",
              "      <td>0.0</td>\n",
              "      <td>0.0</td>\n",
              "      <td>0</td>\n",
              "      <td>0</td>\n",
              "      <td>0</td>\n",
              "      <td>0</td>\n",
              "      <td>0</td>\n",
              "      <td>0</td>\n",
              "      <td>0</td>\n",
              "      <td>0</td>\n",
              "      <td>0</td>\n",
              "      <td>0</td>\n",
              "      <td>0</td>\n",
              "      <td>0</td>\n",
              "      <td>0</td>\n",
              "      <td>0</td>\n",
              "      <td>0</td>\n",
              "      <td>0</td>\n",
              "      <td>0</td>\n",
              "      <td>0</td>\n",
              "      <td>0</td>\n",
              "      <td>0</td>\n",
              "      <td>0</td>\n",
              "      <td>0</td>\n",
              "      <td>0</td>\n",
              "      <td>0</td>\n",
              "      <td>0</td>\n",
              "      <td>0</td>\n",
              "      <td>0</td>\n",
              "      <td>0</td>\n",
              "      <td>0</td>\n",
              "      <td>0</td>\n",
              "      <td>0</td>\n",
              "      <td>0</td>\n",
              "      <td>0</td>\n",
              "      <td>0</td>\n",
              "      <td>0</td>\n",
              "      <td>0</td>\n",
              "      <td>0</td>\n",
              "      <td>0</td>\n",
              "      <td>0</td>\n",
              "      <td>0</td>\n",
              "      <td>0</td>\n",
              "      <td>0</td>\n",
              "      <td>0</td>\n",
              "      <td>0</td>\n",
              "      <td>0</td>\n",
              "      <td>0</td>\n",
              "      <td>0</td>\n",
              "      <td>0</td>\n",
              "      <td>0</td>\n",
              "      <td>0</td>\n",
              "      <td>0.0</td>\n",
              "      <td>0.0</td>\n",
              "      <td>0.0</td>\n",
              "      <td>0.0</td>\n",
              "      <td>0.0</td>\n",
              "      <td>0.0</td>\n",
              "      <td>0.0</td>\n",
              "      <td>0.0</td>\n",
              "      <td>0.0</td>\n",
              "      <td>0.0</td>\n",
              "      <td>0.0</td>\n",
              "      <td>0.0</td>\n",
              "      <td>0.0</td>\n",
              "      <td>0.0</td>\n",
              "    </tr>\n",
              "  </tbody>\n",
              "</table>\n",
              "</div>"
            ],
            "text/plain": [
              "                                Session Key Protocol       Src IP  Src Port  \\\n",
              "0  ICMPv6 ::201:1:1:1 0 ::205:5:5:5 0 155 2   ICMPv6  ::201:1:1:1         0   \n",
              "1  ICMPv6 ::201:1:1:1 0 ::205:5:5:5 0 155 3   ICMPv6  ::201:1:1:1         0   \n",
              "2  ICMPv6 ::201:1:1:1 0 ::20a:a:a:a 0 155 2   ICMPv6  ::201:1:1:1         0   \n",
              "3  ICMPv6 ::201:1:1:1 0 ::20a:a:a:a 0 155 3   ICMPv6  ::201:1:1:1         0   \n",
              "4  ICMPv6 ::201:1:1:1 0 ::208:8:8:8 0 155 2   ICMPv6  ::201:1:1:1         0   \n",
              "\n",
              "        Dst IP  Dst Port  Init Ts  Last Ts            Ts  Duration  \\\n",
              "0  ::205:5:5:5         0  48:50.3  48:50.3  1.622580e+15         0   \n",
              "1  ::205:5:5:5         0  48:50.3  48:50.3  1.622580e+15         0   \n",
              "2  ::20a:a:a:a         0  48:52.4  48:52.4  1.622580e+15         0   \n",
              "3  ::20a:a:a:a         0  48:52.5  48:52.5  1.622580e+15         0   \n",
              "4  ::208:8:8:8         0  48:52.9  48:52.9  1.622580e+15         0   \n",
              "\n",
              "                                            Mac Addr   Label  Fwd Pkt Len Min  \\\n",
              "0  {'00:01:00:01:00:01:00:01', '00:05:00:05:00:05...  normal                0   \n",
              "1  {'00:01:00:01:00:01:00:01', '00:05:00:05:00:05...  normal               43   \n",
              "2  {'00:0a:00:0a:00:0a:00:0a', '00:01:00:01:00:01...  normal                0   \n",
              "3  {'00:0a:00:0a:00:0a:00:0a', '00:01:00:01:00:01...  normal               43   \n",
              "4  {'00:01:00:01:00:01:00:01', '00:08:00:08:00:08...  normal                0   \n",
              "\n",
              "   Fwd Pkt Len Max  Fwd Pkt Len Sum  Fwd Pkt Len Ave  Fwd Pkt Len Std  \\\n",
              "0                0                0                0                0   \n",
              "1               43               43               43                0   \n",
              "2                0                0                0                0   \n",
              "3               43               43               43                0   \n",
              "4                0                0                0                0   \n",
              "\n",
              "   Bwd Pkt Len Min  Bwd Pkt Len Max  Bwd Pkt Len Sum  Bwd Pkt Len Ave  \\\n",
              "0               85               85               85               85   \n",
              "1                0                0                0                0   \n",
              "2               85               85               85               85   \n",
              "3                0                0                0                0   \n",
              "4               85               85               85               85   \n",
              "\n",
              "   Bwd Pkt Len Std  Flow Pkt Len Min  Flow Pkt Len Max  Flow Pkt Len Ave  \\\n",
              "0                0                85                85                85   \n",
              "1                0                43                43                43   \n",
              "2                0                85                85                85   \n",
              "3                0                43                43                43   \n",
              "4                0                85                85                85   \n",
              "\n",
              "   Flow Pkt Len Std  Fwd Pkt Num  Bwd Pkt Num  F/Bwd Pkt Ratio  Fwd Pkt Speed  \\\n",
              "0                 0            0            1                0            0.0   \n",
              "1                 0            1            0                0            0.0   \n",
              "2                 0            0            1                0            0.0   \n",
              "3                 0            1            0                0            0.0   \n",
              "4                 0            0            1                0            0.0   \n",
              "\n",
              "   Bwd Pkt Speed  Fwd Byte Num  Bwd Byte Num  F/Bwd Byte Ratio  \\\n",
              "0            0.0             0            85                 0   \n",
              "1            0.0            43             0                 0   \n",
              "2            0.0             0            85                 0   \n",
              "3            0.0            43             0                 0   \n",
              "4            0.0             0            85                 0   \n",
              "\n",
              "   Fwd Byte Speed  Bwd Byte Speed  Fwd Flag Ack Num  Bwd Flag Ack Num  \\\n",
              "0             0.0             0.0                 0                 0   \n",
              "1             0.0             0.0                 0                 0   \n",
              "2             0.0             0.0                 0                 0   \n",
              "3             0.0             0.0                 0                 0   \n",
              "4             0.0             0.0                 0                 0   \n",
              "\n",
              "   F/Bwd Flag Ack Ratio  Fwd Flag Ack Speed  Bwd Flag Ack Speed  \\\n",
              "0                     0                   0                   0   \n",
              "1                     0                   0                   0   \n",
              "2                     0                   0                   0   \n",
              "3                     0                   0                   0   \n",
              "4                     0                   0                   0   \n",
              "\n",
              "   Fwd Flag Cwr Num  Bwd Flag Cwr Num  F/Bwd Flag Cwr Ratio  \\\n",
              "0                 0                 0                     0   \n",
              "1                 0                 0                     0   \n",
              "2                 0                 0                     0   \n",
              "3                 0                 0                     0   \n",
              "4                 0                 0                     0   \n",
              "\n",
              "   Fwd Flag Cwr Speed  Bwd Flag Cwr Speed  Fwd Flag Ecn Num  Bwd Flag Ecn Num  \\\n",
              "0                   0                   0                 0                 0   \n",
              "1                   0                   0                 0                 0   \n",
              "2                   0                   0                 0                 0   \n",
              "3                   0                   0                 0                 0   \n",
              "4                   0                   0                 0                 0   \n",
              "\n",
              "   F/Bwd Flag Ecn Ratio  Fwd Flag Ecn Speed  Bwd Flag Ecn Speed  \\\n",
              "0                     0                   0                   0   \n",
              "1                     0                   0                   0   \n",
              "2                     0                   0                   0   \n",
              "3                     0                   0                   0   \n",
              "4                     0                   0                   0   \n",
              "\n",
              "   Fwd Flag Fin Num  Bwd Flag Fin Num  F/Bwd Flag Fin Ratio  \\\n",
              "0                 0                 0                     0   \n",
              "1                 0                 0                     0   \n",
              "2                 0                 0                     0   \n",
              "3                 0                 0                     0   \n",
              "4                 0                 0                     0   \n",
              "\n",
              "   Fwd Flag Fin Speed  Bwd Flag Fin Speed  Fwd Flag Ns Num  Bwd Flag Ns Num  \\\n",
              "0                   0                   0                0                0   \n",
              "1                   0                   0                0                0   \n",
              "2                   0                   0                0                0   \n",
              "3                   0                   0                0                0   \n",
              "4                   0                   0                0                0   \n",
              "\n",
              "   F/Bwd Flag Ns Ratio  Fwd Flag Ns Speed  Bwd Flag Ns Speed  \\\n",
              "0                    0                  0                  0   \n",
              "1                    0                  0                  0   \n",
              "2                    0                  0                  0   \n",
              "3                    0                  0                  0   \n",
              "4                    0                  0                  0   \n",
              "\n",
              "   Fwd Flag Push Num  Bwd Flag Push Num  F/Bwd Flag Push Ratio  \\\n",
              "0                  0                  0                      0   \n",
              "1                  0                  0                      0   \n",
              "2                  0                  0                      0   \n",
              "3                  0                  0                      0   \n",
              "4                  0                  0                      0   \n",
              "\n",
              "   Fwd Flag Push Speed  Bwd Flag Push Speed  Fwd Flag Res Num  \\\n",
              "0                    0                    0                 0   \n",
              "1                    0                    0                 0   \n",
              "2                    0                    0                 0   \n",
              "3                    0                    0                 0   \n",
              "4                    0                    0                 0   \n",
              "\n",
              "   Bwd Flag Res Num  F/Bwd Flag Res Ratio  Fwd Flag Res Speed  \\\n",
              "0                 0                     0                   0   \n",
              "1                 0                     0                   0   \n",
              "2                 0                     0                   0   \n",
              "3                 0                     0                   0   \n",
              "4                 0                     0                   0   \n",
              "\n",
              "   Bwd Flag Res Speed  Fwd Flag Reset Num  Bwd Flag Reset Num  \\\n",
              "0                   0                   0                   0   \n",
              "1                   0                   0                   0   \n",
              "2                   0                   0                   0   \n",
              "3                   0                   0                   0   \n",
              "4                   0                   0                   0   \n",
              "\n",
              "   F/Bwd Flag Reset Ratio  Fwd Flag Reset Speed  Bwd Flag Reset Speed  \\\n",
              "0                       0                     0                     0   \n",
              "1                       0                     0                     0   \n",
              "2                       0                     0                     0   \n",
              "3                       0                     0                     0   \n",
              "4                       0                     0                     0   \n",
              "\n",
              "   Fwd Flag Syn Num  Bwd Flag Syn Num  F/Bwd Flag Syn Ratio  \\\n",
              "0                 0                 0                     0   \n",
              "1                 0                 0                     0   \n",
              "2                 0                 0                     0   \n",
              "3                 0                 0                     0   \n",
              "4                 0                 0                     0   \n",
              "\n",
              "   Fwd Flag Syn Speed  Bwd Flag Syn Speed  Fwd Flag Urg Num  Bwd Flag Urg Num  \\\n",
              "0                   0                   0                 0                 0   \n",
              "1                   0                   0                 0                 0   \n",
              "2                   0                   0                 0                 0   \n",
              "3                   0                   0                 0                 0   \n",
              "4                   0                   0                 0                 0   \n",
              "\n",
              "   F/Bwd Flag Urg Ratio  Fwd Flag Urg Speed  Bwd Flag Urg Speed  Fwd IAT Min  \\\n",
              "0                     0                   0                   0          0.0   \n",
              "1                     0                   0                   0          0.0   \n",
              "2                     0                   0                   0          0.0   \n",
              "3                     0                   0                   0          0.0   \n",
              "4                     0                   0                   0          0.0   \n",
              "\n",
              "   Fwd IAT Max  Fwd IAT Sum  Fwd IAT Ave  Fwd IAT Std  Bwd IAT Min  \\\n",
              "0          0.0          0.0          0.0          0.0          0.0   \n",
              "1          0.0          0.0          0.0          0.0          0.0   \n",
              "2          0.0          0.0          0.0          0.0          0.0   \n",
              "3          0.0          0.0          0.0          0.0          0.0   \n",
              "4          0.0          0.0          0.0          0.0          0.0   \n",
              "\n",
              "   Bwd IAT Max  Bwd IAT Sum  Bwd IAT Ave  Bwd IAT Std  Flow IAT Min  \\\n",
              "0          0.0          0.0          0.0          0.0           0.0   \n",
              "1          0.0          0.0          0.0          0.0           0.0   \n",
              "2          0.0          0.0          0.0          0.0           0.0   \n",
              "3          0.0          0.0          0.0          0.0           0.0   \n",
              "4          0.0          0.0          0.0          0.0           0.0   \n",
              "\n",
              "   Flow IAT Max  Flow IAT Ave  Flow IAT Std  \n",
              "0           0.0           0.0           0.0  \n",
              "1           0.0           0.0           0.0  \n",
              "2           0.0           0.0           0.0  \n",
              "3           0.0           0.0           0.0  \n",
              "4           0.0           0.0           0.0  "
            ]
          },
          "metadata": {
            "tags": []
          },
          "execution_count": 4
        }
      ]
    },
    {
      "cell_type": "code",
      "metadata": {
        "colab": {
          "base_uri": "https://localhost:8080/"
        },
        "id": "sKJG-7LxTm88",
        "outputId": "a1f115db-63dc-4a44-da55-ffc643af9b19"
      },
      "source": [
        "print(df.shape)"
      ],
      "execution_count": null,
      "outputs": [
        {
          "output_type": "stream",
          "text": [
            "(14776, 100)\n"
          ],
          "name": "stdout"
        }
      ]
    },
    {
      "cell_type": "code",
      "metadata": {
        "colab": {
          "base_uri": "https://localhost:8080/",
          "height": 280
        },
        "id": "6Qt16Sj_MEgf",
        "outputId": "ada73aa8-8265-4330-f5ad-1e455da8fd3c"
      },
      "source": [
        "\n",
        "ax = sns.barplot(x=\"Label\", y=\"Fwd Pkt Speed\", data=df)\n"
      ],
      "execution_count": null,
      "outputs": [
        {
          "output_type": "display_data",
          "data": {
            "image/png": "[encoded data removed]",
            "text/plain": [
              "<Figure size 432x288 with 1 Axes>"
            ]
          },
          "metadata": {
            "tags": [],
            "needs_background": "light"
          }
        }
      ]
    },
    {
      "cell_type": "code",
      "metadata": {
        "colab": {
          "base_uri": "https://localhost:8080/",
          "height": 280
        },
        "id": "7nkNnIFCMZsi",
        "outputId": "1d801435-2e5e-4394-92e6-2582f54265c2"
      },
      "source": [
        "ax = sns.barplot(x=\"Label\", y=\"Bwd Pkt Speed\", data=df)"
      ],
      "execution_count": null,
      "outputs": [
        {
          "output_type": "display_data",
          "data": {
            "image/png": "[encoded data removed]",
            "text/plain": [
              "<Figure size 432x288 with 1 Axes>"
            ]
          },
          "metadata": {
            "tags": [],
            "needs_background": "light"
          }
        }
      ]
    },
    {
      "cell_type": "markdown",
      "metadata": {
        "id": "66Bp54aF5d4c"
      },
      "source": [
        "## 2.2 Clean and Scaling the Dataset"
      ]
    },
    {
      "cell_type": "code",
      "metadata": {
        "id": "3KFt45wU79MR"
      },
      "source": [
        "drop_column = ['Session Key', 'Protocol', 'Src IP', 'Src Port', 'Dst IP', 'Dst Port', 'Init Ts', 'Last Ts', 'Ts', 'Duration', 'Mac Addr','Label']\n",
        "df.dropna(inplace=True)\n",
        "df.drop_duplicates(inplace=True)\n",
        "y = df['Label'].values\n",
        "X = df.drop(columns=drop_column).values\n",
        "X = np.nan_to_num(X, nan=0, posinf=0, neginf=0)\n",
        "X_normalized = preprocessing.normalize(X, norm='l2')"
      ],
      "execution_count": null,
      "outputs": []
    },
    {
      "cell_type": "markdown",
      "metadata": {
        "id": "DRExR_0r5yBe"
      },
      "source": [
        "## 2.3 Split Data"
      ]
    },
    {
      "cell_type": "code",
      "metadata": {
        "id": "jAjS_QP18Cpr",
        "colab": {
          "base_uri": "https://localhost:8080/"
        },
        "outputId": "d9ced2d5-329f-4999-f14c-21e4f402a881"
      },
      "source": [
        "X_train, X_test, y_train, y_test = train_test_split(X_normalized, y, test_size = 0.33)\n",
        "\n",
        "print(X_train.shape)\n",
        "print(X_test.shape)"
      ],
      "execution_count": null,
      "outputs": [
        {
          "output_type": "stream",
          "text": [
            "(9899, 88)\n",
            "(4877, 88)\n"
          ],
          "name": "stdout"
        }
      ]
    },
    {
      "cell_type": "markdown",
      "metadata": {
        "id": "YCJWnPWw8Eet"
      },
      "source": [
        "# **3. Classification**"
      ]
    },
    {
      "cell_type": "markdown",
      "metadata": {
        "id": "rLuRdZ4F6pGY"
      },
      "source": [
        "# **3.1 Random Forest**"
      ]
    },
    {
      "cell_type": "markdown",
      "metadata": {
        "id": "mDNaJmeqwF5N"
      },
      "source": [
        "We are instantiating a random forest object with 10 decision trees with maximum depth of 1 and using a subset of the data set each time."
      ]
    },
    {
      "cell_type": "code",
      "metadata": {
        "id": "XQQMK3go7KMD",
        "colab": {
          "base_uri": "https://localhost:8080/",
          "height": 404
        },
        "outputId": "15691e78-33e3-4e27-ec71-76979c61a13c"
      },
      "source": [
        "rf=RandomForestClassifier(n_estimators=10,max_depth=1, random_state=0,bootstrap=True)\n",
        "rf.fit(X_train,y_train);\n",
        "predict=rf.predict(X_test)\n",
        "print('Accuracy score: ', format(accuracy_score(y_test, predict)))\n",
        "# Calculating metrics globally by counting the total true positives, false negatives and false positives.\n",
        "print('Precision score: ', format(precision_score(y_test, predict,average='macro')))\n",
        "print('Recall score: ', format(recall_score(y_test, predict,average='macro')))\n",
        "print('F1 score: ', format(f1_score(y_test, predict,average='macro')))\n",
        "plot_confusion_matrix(rf,X_test,y_test);"
      ],
      "execution_count": null,
      "outputs": [
        {
          "output_type": "stream",
          "text": [
            "Accuracy score:  0.9864670904244413\n",
            "Precision score:  0.6400331844712376\n",
            "Recall score:  0.6666666666666666\n",
            "F1 score:  0.6528818941404536\n"
          ],
          "name": "stdout"
        },
        {
          "output_type": "stream",
          "text": [
            "/usr/local/lib/python3.7/dist-packages/sklearn/metrics/_classification.py:1272: UndefinedMetricWarning: Precision is ill-defined and being set to 0.0 in labels with no predicted samples. Use `zero_division` parameter to control this behavior.\n",
            "  _warn_prf(average, modifier, msg_start, len(result))\n"
          ],
          "name": "stderr"
        },
        {
          "output_type": "display_data",
          "data": {
            "image/png": "[encoded data removed]",
            "text/plain": [
              "<Figure size 432x288 with 2 Axes>"
            ]
          },
          "metadata": {
            "tags": [],
            "needs_background": "light"
          }
        }
      ]
    },
    {
      "cell_type": "markdown",
      "metadata": {
        "id": "YxEroEsO8lRt"
      },
      "source": [
        "# **3.2 Naive Bayes**"
      ]
    },
    {
      "cell_type": "code",
      "metadata": {
        "id": "xm0_hjlS88fB",
        "colab": {
          "base_uri": "https://localhost:8080/",
          "height": 359
        },
        "outputId": "2ad76090-fd30-480a-8616-ba6150eaf60a"
      },
      "source": [
        "# https://scikit-learn.org/stable/modules/naive_bayes.html\n",
        "from sklearn.naive_bayes import GaussianNB\n",
        "nb=GaussianNB()\n",
        "nb.fit(X_train,y_train);\n",
        "predict=nb.predict(X_test)\n",
        "print('Accuracy score: ', format(accuracy_score(y_test, predict)))\n",
        "print('Precision score: ', format(precision_score(y_test, predict,average='macro')))\n",
        "print('Recall score: ', format(recall_score(y_test, predict,average='macro')))\n",
        "print('F1 score: ', format(f1_score(y_test, predict,average='macro')))\n",
        "plot_confusion_matrix(nb,X_test,y_test);"
      ],
      "execution_count": null,
      "outputs": [
        {
          "output_type": "stream",
          "text": [
            "Accuracy score:  1.0\n",
            "Precision score:  1.0\n",
            "Recall score:  1.0\n",
            "F1 score:  1.0\n"
          ],
          "name": "stdout"
        },
        {
          "output_type": "display_data",
          "data": {
            "image/png": "[encoded data removed]",
            "text/plain": [
              "<Figure size 432x288 with 2 Axes>"
            ]
          },
          "metadata": {
            "tags": []
          }
        }
      ]
    },
    {
      "cell_type": "markdown",
      "metadata": {
        "id": "bPUHROCL8tn4"
      },
      "source": [
        "# **3.3 Adaboost**"
      ]
    },
    {
      "cell_type": "markdown",
      "metadata": {
        "id": "z-GTYBOFChxj"
      },
      "source": [
        "We are instantiating an Adaboost object with 10 decision trees with maximum depth of 1 ( by default)."
      ]
    },
    {
      "cell_type": "code",
      "metadata": {
        "id": "1JFLj1vB87BS",
        "colab": {
          "base_uri": "https://localhost:8080/",
          "height": 359
        },
        "outputId": "5b55c831-0076-4e19-d000-28bc8d689ae4"
      },
      "source": [
        "#https://www.datacamp.com/community/tutorials/adaboost-classifier-python\n",
        "adaboost_model = AdaBoostClassifier(n_estimators=10,learning_rate=.5,random_state=0)\n",
        "adaboost_model = adaboost_model.fit(X_train, y_train)\n",
        "y_pred = adaboost_model.predict(X_test)\n",
        "print('Accuracy score: ', format(accuracy_score(y_test, y_pred)))\n",
        "print('Precision score: ', format(precision_score(y_test, y_pred,average='macro')))\n",
        "print('Recall score: ', format(recall_score(y_test, y_pred,average='macro')))\n",
        "print('F1 score: ', format(f1_score(y_test, y_pred,average='macro')))\n",
        "plot_confusion_matrix(adaboost_model,X_test,y_test);"
      ],
      "execution_count": null,
      "outputs": [
        {
          "output_type": "stream",
          "text": [
            "Accuracy score:  1.0\n",
            "Precision score:  1.0\n",
            "Recall score:  1.0\n",
            "F1 score:  1.0\n"
          ],
          "name": "stdout"
        },
        {
          "output_type": "display_data",
          "data": {
            "image/png": "[encoded data removed]",
            "text/plain": [
              "<Figure size 432x288 with 2 Axes>"
            ]
          },
          "metadata": {
            "tags": []
          }
        }
      ]
    },
    {
      "cell_type": "code",
      "metadata": {
        "id": "xFweiseYUghi"
      },
      "source": [
        ""
      ],
      "execution_count": null,
      "outputs": []
    }
  ]
}